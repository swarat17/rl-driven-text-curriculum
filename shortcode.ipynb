{
 "cells": [
  {
   "cell_type": "code",
   "execution_count": 1,
   "metadata": {},
   "outputs": [],
   "source": [
    "import torch\n",
    "from transformers import GPT2LMHeadModel, GPT2Tokenizer\n",
    "from stable_baselines3 import PPO\n",
    "import gym\n",
    "import numpy as np"
   ]
  },
  {
   "cell_type": "markdown",
   "metadata": {},
   "source": [
    "### New Approach"
   ]
  },
  {
   "cell_type": "markdown",
   "metadata": {},
   "source": [
    "#### Train Dataset Load"
   ]
  },
  {
   "cell_type": "code",
   "execution_count": 2,
   "metadata": {},
   "outputs": [
    {
     "name": "stdout",
     "output_type": "stream",
     "text": [
      "Loaded 2871 samples from CNN/DailyMail dataset\n"
     ]
    }
   ],
   "source": [
    "from datasets import load_dataset\n",
    "\n",
    "# Load a small subset (1%) of the CNN/DailyMail dataset\n",
    "dataset = load_dataset(\"cnn_dailymail\", \"3.0.0\", split=\"train[:1%]\")\n",
    "texts = dataset[\"article\"]  # Extract news articles\n",
    "summaries = dataset[\"highlights\"]  # Extract summaries\n",
    "\n",
    "print(f\"Loaded {len(texts)} samples from CNN/DailyMail dataset\")"
   ]
  },
  {
   "cell_type": "code",
   "execution_count": 3,
   "metadata": {},
   "outputs": [],
   "source": [
    "from transformers import GPT2Tokenizer, GPT2LMHeadModel\n",
    "\n",
    "# Use a lightweight model to fit into memory\n",
    "tokenizer = GPT2Tokenizer.from_pretrained(\"distilgpt2\")\n",
    "model = GPT2LMHeadModel.from_pretrained(\"distilgpt2\")"
   ]
  },
  {
   "cell_type": "code",
   "execution_count": 4,
   "metadata": {},
   "outputs": [],
   "source": [
    "# RL Enviroment\n",
    "import gym\n",
    "from gym import spaces\n",
    "import numpy as np\n",
    "import torch\n",
    "\n",
    "class AdaptiveContextEnv(gym.Env):\n",
    "    def __init__(self, texts, summaries, model, tokenizer):\n",
    "        super(AdaptiveContextEnv, self).__init__()\n",
    "        self.model = model\n",
    "        self.texts = texts\n",
    "        self.summaries = summaries\n",
    "        self.tokenizer = tokenizer\n",
    "        self.action_space = spaces.Discrete(4)  # Context lengths: [50, 100, 150, 250]\n",
    "        self.observation_space = spaces.Box(low=0, high=1, shape=(1,), dtype=np.float32)\n",
    "\n",
    "    def step(self, action):\n",
    "        context_lengths = [50, 100, 150, 250]\n",
    "        context_length = context_lengths[action]\n",
    "\n",
    "        # Sample a random text\n",
    "        idx = np.random.randint(len(self.texts))\n",
    "        text = self.texts[idx]\n",
    "        ref_summary = self.summaries[idx]\n",
    "\n",
    "        tokenized_input = self.tokenizer.encode(text, truncation=True, max_length=context_length)\n",
    "        generated_summary = self.generate_summary(tokenized_input)\n",
    "\n",
    "        # Compute ROUGE score for evaluation\n",
    "        rouge_score = self.compute_rouge(generated_summary, ref_summary)\n",
    "\n",
    "        # Efficiency reward (shorter context is better)\n",
    "        efficiency = context_length / 250  # Normalize efficiency score\n",
    "        reward = rouge_score * 100 + efficiency * 10  # Trade-off between task performance & efficiency\n",
    "\n",
    "        return np.array([efficiency], dtype=np.float32), reward, True, {}\n",
    "\n",
    "    def reset(self):\n",
    "        return np.array([0.0], dtype=np.float32)\n",
    "\n",
    "    def generate_summary(self, tokenized_input):\n",
    "        \"\"\"Generates a summary from the model output using max_new_tokens.\"\"\"\n",
    "        input_ids = torch.tensor([tokenized_input])\n",
    "        attention_mask = torch.ones_like(input_ids)\n",
    "\n",
    "        with torch.no_grad():\n",
    "            output = self.model.generate(\n",
    "                input_ids,\n",
    "                attention_mask=attention_mask,\n",
    "                max_new_tokens=50,\n",
    "                num_return_sequences=1,\n",
    "                pad_token_id=self.tokenizer.eos_token_id\n",
    "            )\n",
    "\n",
    "        return self.tokenizer.decode(output[0], skip_special_tokens=True)\n",
    "\n",
    "    def compute_rouge(self, generated_summary, ref_summary):\n",
    "        \"\"\"Compute ROUGE-L score for summarization performance.\"\"\"\n",
    "        import evaluate\n",
    "        rouge = evaluate.load(\"rouge\")\n",
    "        scores = rouge.compute(predictions=[generated_summary], references=[ref_summary])\n",
    "    \n",
    "        # If ROUGE returns a single float, return it directly\n",
    "        if isinstance(scores[\"rougeL\"], float):\n",
    "            return scores[\"rougeL\"]\n",
    "        \n",
    "        # Otherwise, return the F1 score\n",
    "        return scores[\"rougeL\"].fmeasure"
   ]
  },
  {
   "cell_type": "code",
   "execution_count": 5,
   "metadata": {},
   "outputs": [
    {
     "name": "stderr",
     "output_type": "stream",
     "text": [
      "g:\\UB\\RL Project\\.venv\\lib\\site-packages\\stable_baselines3\\common\\vec_env\\patch_gym.py:49: UserWarning: You provided an OpenAI Gym environment. We strongly recommend transitioning to Gymnasium environments. Stable-Baselines3 is automatically wrapping your environments in a compatibility layer, which could potentially cause issues.\n",
      "  warnings.warn(\n"
     ]
    },
    {
     "name": "stdout",
     "output_type": "stream",
     "text": [
      "Using cuda device\n"
     ]
    },
    {
     "name": "stderr",
     "output_type": "stream",
     "text": [
      "g:\\UB\\RL Project\\.venv\\lib\\site-packages\\stable_baselines3\\common\\on_policy_algorithm.py:150: UserWarning: You are trying to run PPO on the GPU, but it is primarily intended to run on the CPU when not using a CNN policy (you are using ActorCriticPolicy which should be a MlpPolicy). See https://github.com/DLR-RM/stable-baselines3/issues/1245 for more info. You can pass `device='cpu'` or `export CUDA_VISIBLE_DEVICES=` to force using the CPU.Note: The model will train, but the GPU utilization will be poor and the training might take longer than on CPU.\n",
      "  warnings.warn(\n"
     ]
    },
    {
     "name": "stdout",
     "output_type": "stream",
     "text": [
      "-----------------------------\n",
      "| time/              |      |\n",
      "|    fps             | 0    |\n",
      "|    iterations      | 1    |\n",
      "|    time_elapsed    | 3289 |\n",
      "|    total_timesteps | 2048 |\n",
      "-----------------------------\n",
      "------------------------------------------\n",
      "| time/                   |              |\n",
      "|    fps                  | 0            |\n",
      "|    iterations           | 2            |\n",
      "|    time_elapsed         | 6632         |\n",
      "|    total_timesteps      | 4096         |\n",
      "| train/                  |              |\n",
      "|    approx_kl            | 0.0018539974 |\n",
      "|    clip_fraction        | 0            |\n",
      "|    clip_range           | 0.2          |\n",
      "|    entropy_loss         | -1.39        |\n",
      "|    explained_variance   | 0            |\n",
      "|    learning_rate        | 0.0003       |\n",
      "|    loss                 | 100          |\n",
      "|    n_updates            | 10           |\n",
      "|    policy_gradient_loss | -0.00313     |\n",
      "|    value_loss           | 414          |\n",
      "------------------------------------------\n"
     ]
    },
    {
     "data": {
      "text/plain": [
       "<stable_baselines3.ppo.ppo.PPO at 0x233eae82f80>"
      ]
     },
     "execution_count": 5,
     "metadata": {},
     "output_type": "execute_result"
    }
   ],
   "source": [
    "from stable_baselines3 import PPO\n",
    "from stable_baselines3.common.vec_env import DummyVecEnv\n",
    "\n",
    "# Wrap environment for Stable-Baselines3 PPO training\n",
    "env = DummyVecEnv([lambda: AdaptiveContextEnv(texts, summaries, model, tokenizer)])\n",
    "\n",
    "# Initialize PPO agent\n",
    "agent = PPO(\"MlpPolicy\", env, verbose=1, clip_range=0.2, max_grad_norm=0.5, device=\"cuda\")\n",
    "\n",
    "# Train for a small number of steps to fit into 16GB RAM\n",
    "agent.learn(total_timesteps=3000)"
   ]
  },
  {
   "cell_type": "code",
   "execution_count": 6,
   "metadata": {},
   "outputs": [],
   "source": [
    "# Save the model\n",
    "agent.save(\"ppo_adaptive_context\")"
   ]
  },
  {
   "cell_type": "markdown",
   "metadata": {},
   "source": [
    "#### Load test dataset"
   ]
  },
  {
   "cell_type": "code",
   "execution_count": 7,
   "metadata": {},
   "outputs": [
    {
     "name": "stdout",
     "output_type": "stream",
     "text": [
      "Loaded 50 samples from CNN/DailyMail test set\n"
     ]
    }
   ],
   "source": [
    "from datasets import load_dataset\n",
    "\n",
    "# Load test set: 50 samples from the \"test\" split\n",
    "test_dataset = load_dataset(\"cnn_dailymail\", \"3.0.0\", split=\"test[:50]\")\n",
    "test_texts = test_dataset[\"article\"]\n",
    "test_summaries = test_dataset[\"highlights\"]\n",
    "\n",
    "print(f\"Loaded {len(test_texts)} samples from CNN/DailyMail test set\")"
   ]
  },
  {
   "cell_type": "code",
   "execution_count": 8,
   "metadata": {},
   "outputs": [],
   "source": [
    "def evaluate_agent_on_test(agent, vec_env, test_texts, test_summaries):\n",
    "    context_map = [50, 100, 150, 250]\n",
    "    selected_actions = []\n",
    "    rouge_scores = []\n",
    "\n",
    "    from evaluate import load\n",
    "    rouge = load(\"rouge\")\n",
    "\n",
    "    # Unwrap actual env\n",
    "    env = vec_env.envs[0]\n",
    "\n",
    "    for i in range(len(test_texts)):\n",
    "        obs = vec_env.reset()\n",
    "        action, _ = agent.predict(obs)\n",
    "        selected_actions.append(int(action))\n",
    "\n",
    "        ctx_len = context_map[int(action)]\n",
    "        text = test_texts[i]\n",
    "        ref_summary = test_summaries[i]\n",
    "\n",
    "        tokenized_input = env.tokenizer.encode(text, truncation=True, max_length=ctx_len)\n",
    "        input_ids = torch.tensor([tokenized_input]).to(env.model.device)\n",
    "\n",
    "        attention_mask = torch.ones_like(input_ids)\n",
    "\n",
    "        with torch.no_grad():\n",
    "            output = env.model.generate(\n",
    "                input_ids,\n",
    "                attention_mask=attention_mask,\n",
    "                max_new_tokens=50,\n",
    "                pad_token_id=env.tokenizer.eos_token_id\n",
    "            )\n",
    "\n",
    "        generated_summary = env.tokenizer.decode(output[0], skip_special_tokens=True)\n",
    "\n",
    "        score = rouge.compute(predictions=[generated_summary], references=[ref_summary])\n",
    "        rouge_l = score[\"rougeL\"] if isinstance(score[\"rougeL\"], float) else score[\"rougeL\"].fmeasure\n",
    "        rouge_scores.append(rouge_l)\n",
    "\n",
    "    selected_actions = np.array(selected_actions)\n",
    "    selected_contexts = np.array(context_map)[selected_actions]\n",
    "    avg_rouge = np.mean(rouge_scores)\n",
    "    avg_context = np.mean(selected_contexts)\n",
    "\n",
    "    print(f\"\\nRL Agent Performance on Test Set:\")\n",
    "    print(f\"Average ROUGE-L: {avg_rouge:.4f}\")\n",
    "    print(f\"Average Selected Context Length: {avg_context:.2f}\")\n",
    "    return avg_rouge, avg_context, selected_contexts"
   ]
  },
  {
   "cell_type": "code",
   "execution_count": 14,
   "metadata": {},
   "outputs": [],
   "source": [
    "def evaluate_fixed_contexts(model, tokenizer, test_texts, test_summaries):\n",
    "    from evaluate import load\n",
    "    rouge_metric = load(\"rouge\")\n",
    "\n",
    "    fixed_contexts = [50, 100, 150, 250]\n",
    "    fixed_rouge_scores = {}\n",
    "\n",
    "    for ctx in fixed_contexts:\n",
    "        predictions = []\n",
    "        references = []\n",
    "\n",
    "        for i in range(len(test_texts)):\n",
    "            text = test_texts[i]\n",
    "            ref_summary = test_summaries[i]\n",
    "\n",
    "            tokenized_input = tokenizer.encode(text, truncation=True, max_length=ctx)\n",
    "            input_ids = torch.tensor([tokenized_input]).to(model.device)\n",
    "\n",
    "            attention_mask = torch.ones_like(input_ids)\n",
    "\n",
    "            with torch.no_grad():\n",
    "                output = model.generate(\n",
    "                    input_ids,\n",
    "                    attention_mask=attention_mask,\n",
    "                    max_new_tokens=50,\n",
    "                    pad_token_id=tokenizer.eos_token_id\n",
    "                )\n",
    "            generated_summary = tokenizer.decode(output[0], skip_special_tokens=True)\n",
    "\n",
    "            predictions.append(generated_summary)\n",
    "            references.append(ref_summary)\n",
    "\n",
    "        score = rouge_metric.compute(predictions=predictions, references=references)\n",
    "        rouge_l = score[\"rougeL\"] if isinstance(score[\"rougeL\"], float) else score[\"rougeL\"].fmeasure\n",
    "        fixed_rouge_scores[ctx] = rouge_l\n",
    "\n",
    "    print(f\"\\nFixed Context ROUGE-L Scores on Test Set\\n\")\n",
    "    for key, val in fixed_rouge_scores.items():\n",
    "        print(f\"{key}: {val}\")\n",
    "    return fixed_rouge_scores"
   ]
  },
  {
   "cell_type": "code",
   "execution_count": 15,
   "metadata": {},
   "outputs": [
    {
     "name": "stdout",
     "output_type": "stream",
     "text": [
      "\n",
      "Fixed Context ROUGE-L Scores on Test Set\n",
      "\n",
      "50: 0.200431346225769\n",
      "100: 0.20088681432678174\n",
      "150: 0.1679153997525253\n",
      "250: 0.13420461487553306\n"
     ]
    },
    {
     "name": "stderr",
     "output_type": "stream",
     "text": [
      "C:\\Users\\swara\\AppData\\Local\\Temp\\ipykernel_61024\\1307451381.py:15: DeprecationWarning: Conversion of an array with ndim > 0 to a scalar is deprecated, and will error in future. Ensure you extract a single element from your array before performing this operation. (Deprecated NumPy 1.25.)\n",
      "  selected_actions.append(int(action))\n",
      "C:\\Users\\swara\\AppData\\Local\\Temp\\ipykernel_61024\\1307451381.py:17: DeprecationWarning: Conversion of an array with ndim > 0 to a scalar is deprecated, and will error in future. Ensure you extract a single element from your array before performing this operation. (Deprecated NumPy 1.25.)\n",
      "  ctx_len = context_map[int(action)]\n"
     ]
    },
    {
     "name": "stdout",
     "output_type": "stream",
     "text": [
      "\n",
      "RL Agent Performance on Test Set:\n",
      "Average ROUGE-L: 0.1666\n",
      "Average Selected Context Length: 163.00\n"
     ]
    }
   ],
   "source": [
    "# Load model and tokenizer before this\n",
    "fixed_scores = evaluate_fixed_contexts(model, tokenizer, test_texts, test_summaries)\n",
    "agent_rouge, agent_context, agent_selected_lengths = evaluate_agent_on_test(agent, env, test_texts, test_summaries)"
   ]
  },
  {
   "cell_type": "code",
   "execution_count": 16,
   "metadata": {},
   "outputs": [
    {
     "data": {
      "image/png": "[encoded data removed]",
      "text/plain": [
       "<Figure size 640x480 with 1 Axes>"
      ]
     },
     "metadata": {},
     "output_type": "display_data"
    }
   ],
   "source": [
    "import matplotlib.pyplot as plt\n",
    "\n",
    "# Count occurrences of selected context lengths\n",
    "unique, counts = np.unique(agent_selected_lengths, return_counts=True)\n",
    "plt.bar(unique, counts, color=\"skyblue\")\n",
    "\n",
    "plt.xlabel(\"Selected Context Length\")\n",
    "plt.ylabel(\"Frequency\")\n",
    "plt.title(\"Distribution of Selected Context Lengths (Adaptive Model)\")\n",
    "plt.xticks([50, 100, 150, 250])\n",
    "plt.show()"
   ]
  }
 ],
 "metadata": {
  "kernelspec": {
   "display_name": ".venv",
   "language": "python",
   "name": "python3"
  },
  "language_info": {
   "codemirror_mode": {
    "name": "ipython",
    "version": 3
   },
   "file_extension": ".py",
   "mimetype": "text/x-python",
   "name": "python",
   "nbconvert_exporter": "python",
   "pygments_lexer": "ipython3",
   "version": "3.10.1"
  }
 },
 "nbformat": 4,
 "nbformat_minor": 2
}
